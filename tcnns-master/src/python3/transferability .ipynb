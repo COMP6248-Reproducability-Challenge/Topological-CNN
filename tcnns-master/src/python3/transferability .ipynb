{
 "cells": [
  {
   "cell_type": "code",
   "execution_count": 1,
   "metadata": {},
   "outputs": [],
   "source": [
    "import numpy as np\n",
    "import math as math\n",
    "import copy\n",
    "import matplotlib.pyplot as plt\n",
    "from sklearn import preprocessing \n",
    "import os\n",
    "import cv2\n",
    "import numpy as np\n",
    "from tqdm import tqdm\n",
    "import matplotlib.pyplot as plt\n",
    "import torch\n",
    "import torch.nn as nn\n",
    "import torch.nn.functional as F\n",
    "import torch.optim as optim\n",
    "import torchvision\n",
    "from torchvision import transforms, datasets\n",
    "import csv\n",
    "import cv2\n",
    "import glob\n",
    "from PIL import Image\n",
    "from sklearn.model_selection import train_test_split\n",
    "from scipy.integrate import quad\n",
    "import sklearn\n",
    "import codecs, json\n",
    "import importlib\n",
    "\n",
    "\n",
    "device = torch.device(\"cuda:0\")\n",
    "\n",
    "# Import topnet utilities\n",
    "import sys\n",
    "sys.path.insert(0, '/home/ephy/Projects/tda_convolution/src/')\n",
    "import topnet"
   ]
  },
  {
   "cell_type": "code",
   "execution_count": 2,
   "metadata": {},
   "outputs": [],
   "source": [
    "buildData=False\n",
    "datadir = '/home/ephy/Projects/tda_convolution/data/original/CIFAR/cifar-10-batches-py/'\n",
    "if buildData:\n",
    "    def unpickle(file):\n",
    "        import pickle\n",
    "        with open(file, 'rb') as fo:\n",
    "            dict = pickle.load(fo, encoding='bytes')\n",
    "        return dict\n",
    "    \n",
    "    train_X = list()\n",
    "    train_y = list()\n",
    "    for batch in os.listdir(datadir):\n",
    "        if 'data_batch' in batch:\n",
    "            resp = unpickle(datadir+batch)\n",
    "            for i, item in enumerate(resp[b'data'].reshape(-1,3,32,32)):\n",
    "                train_X.append(np.moveaxis(item,0,-1)/255)\n",
    "                train_y.append(resp[b'labels'][i])\n",
    "    train_X = np.array(train_X)\n",
    "    train_y = np.array(train_y)\n",
    "\n",
    "    test_X = list()\n",
    "    test_y = list()\n",
    "    resp=unpickle(datadir+'test_batch')\n",
    "    for i, item in enumerate(resp[b'data'].reshape(-1,3,32,32)):\n",
    "        test_X.append(np.moveaxis(item,0,-1)/255)\n",
    "        test_y.append(resp[b'labels'][i])\n",
    "\n",
    "    test_X = np.array(test_X)\n",
    "    test_y = np.array(test_y)\n",
    "\n",
    "    nClasses=len(np.unique(train_y))\n",
    "    test_y = np.array([np.eye(nClasses)[x] for x in test_y])\n",
    "    train_y = np.array([np.eye(nClasses)[x] for x in train_y])\n",
    "    \n",
    "    np.save('../data/altered/CIFAR/train_X_color' , train_X)\n",
    "    np.save('../data/altered/CIFAR/train_y_color' , train_y)\n",
    "    np.save('../data/altered/CIFAR/test_X_color' , test_X)\n",
    "    np.save('../data/altered/CIFAR/test_y_color' , test_y)\n",
    "    \n",
    "train_X=np.load('../data/altered/CIFAR/train_X_color.npy' )\n",
    "train_y=np.load('../data/altered/CIFAR/train_y_color.npy' )\n",
    "test_X=np.load('../data/altered/CIFAR/test_X_color.npy' )\n",
    "test_y=np.load('../data/altered/CIFAR/test_y_color.npy' )\n",
    "    \n",
    "train_X = torch.tensor(train_X, dtype=torch.float32)\n",
    "test_X = torch.tensor(test_X, dtype=torch.float32)\n",
    "train_y = torch.tensor(train_y, dtype=torch.float32)\n",
    "test_y = torch.tensor(test_y, dtype=torch.float32)"
   ]
  },
  {
   "cell_type": "code",
   "execution_count": 3,
   "metadata": {},
   "outputs": [],
   "source": [
    "REBUILD_DATA = False\n",
    "datadir = '/home/ephy/Projects/tda_init_cnn/data/'\n",
    "device = torch.device(\"cuda:0\")\n",
    "\n",
    "class DogsVSCats():\n",
    "    IMG_SIZE = 32\n",
    "    CATS = datadir + \"original/kagglecatsanddogs_3367a/PetImages/Cat\"\n",
    "    DOGS = datadir + \"original/kagglecatsanddogs_3367a/PetImages/Dog\"\n",
    "    LABELS = {CATS: 0, DOGS: 1}\n",
    "    training_data = []\n",
    "    catcount = 0\n",
    "    dogcount = 0\n",
    "    \n",
    "    def make_training_data(self):\n",
    "        for label in self.LABELS:\n",
    "            print(label)\n",
    "            for f in tqdm(os.listdir(label)):\n",
    "                try:\n",
    "                    path = os.path.join(label, f)\n",
    "                    img = cv2.imread(path)\n",
    "                    img = cv2.resize(img, (self.IMG_SIZE, self.IMG_SIZE))\n",
    "                    self.training_data.append([np.array(img), np.eye(2)[self.LABELS[label]]])                  \n",
    "                    if label == self.CATS:\n",
    "                        self.catcount += 1\n",
    "                    elif label == self.DOGS:\n",
    "                        self.dogcount += 1\n",
    "                            \n",
    "                except Exception as e:\n",
    "                    #print(str(e))\n",
    "                    pass\n",
    "                \n",
    "        np.random.shuffle(self.training_data)\n",
    "        np.save(datadir + \"altered/catdog_training_data_32x32_color.npy\", self.training_data)\n",
    "        \n",
    "        print(\"Cats:\", self.catcount)\n",
    "        print(\"Dogs:\", self.dogcount)\n",
    "        \n",
    "if REBUILD_DATA:\n",
    "    dogsvcats = DogsVSCats()\n",
    "    dogsvcats.make_training_data()\n",
    "training_data = np.load(datadir+\"altered/catdog_training_data_32x32_color.npy\", allow_pickle=True)\n",
    "\n",
    "X = np.array([i[0] for i in training_data])\n",
    "kaggle_cd_X = X/255.0\n",
    "kaggle_cd_y = np.array([i[1] for i in training_data])\n",
    "kaggle_cd_X = kaggle_cd_X.astype(np.float32)\n",
    "kaggle_cd_y = kaggle_cd_y.astype(np.float32)\n",
    "\n",
    "kaggle_cd_X = torch.tensor(kaggle_cd_X)\n",
    "kaggle_cd_y = torch.tensor(kaggle_cd_y)"
   ]
  },
  {
   "cell_type": "code",
   "execution_count": 4,
   "metadata": {},
   "outputs": [],
   "source": [
    "import torchvision.models as models"
   ]
  },
  {
   "cell_type": "code",
   "execution_count": 5,
   "metadata": {},
   "outputs": [],
   "source": [
    "class AddaptedVGG(nn.Module):\n",
    "    def __init__(self):\n",
    "        super(AddaptedVGG,self).__init__()\n",
    "        self.net = models.vgg16(pretrained=True)\n",
    "        for param in self.net.features.parameters():\n",
    "            param.requires_grad = False\n",
    "        for i,param in enumerate(self.net.classifier.parameters()):\n",
    "            param.requires_grad = False\n",
    "        self.net.classifier[6] = nn.Linear(4096,10)\n",
    "\n",
    "\n",
    "    def forward(self,x):\n",
    "        x = self.net(x)\n",
    "        return x\n",
    "\n",
    "net = AddaptedVGG().to(device)\n",
    "\n",
    "optimizer = optim.Adam(net.parameters(), lr=1e-5)"
   ]
  },
  {
   "cell_type": "code",
   "execution_count": 127,
   "metadata": {},
   "outputs": [
    {
     "name": "stdout",
     "output_type": "stream",
     "text": [
      "False\n",
      "False\n",
      "False\n",
      "False\n",
      "True\n",
      "True\n"
     ]
    }
   ],
   "source": [
    "for i,p in enumerate(net.net.classifier.parameters()):\n",
    "    print(p.requires_grad)"
   ]
  },
  {
   "cell_type": "code",
   "execution_count": 128,
   "metadata": {
    "scrolled": true
   },
   "outputs": [],
   "source": [
    "batchSize=1000\n",
    "imageDim=(32,32)\n",
    "accuracies = []\n",
    "losses=[]\n",
    "epochs=1\n",
    "for epoch in range(epochs):\n",
    "    for n in range(0, len(train_X), batchSize):\n",
    "        batch_X = train_X[n:n+batchSize].view(-1,3,imageDim[0],imageDim[1]).to(device)\n",
    "        batch_y = train_y[n:n+batchSize].to(device)\n",
    "        net.zero_grad()\n",
    "        outputs = net(batch_X)\n",
    "        loss = nn.MSELoss()(outputs, batch_y)\n",
    "        losses.append(loss.tolist())\n",
    "        loss.backward()\n",
    "        optimizer.step()\n"
   ]
  },
  {
   "cell_type": "code",
   "execution_count": 129,
   "metadata": {},
   "outputs": [
    {
     "data": {
      "text/plain": [
       "[<matplotlib.lines.Line2D at 0x7fe3f75928d0>]"
      ]
     },
     "execution_count": 129,
     "metadata": {},
     "output_type": "execute_result"
    },
    {
     "data": {
      "image/png": "[encoded data removed]",
      "text/plain": [
       "<Figure size 432x288 with 1 Axes>"
      ]
     },
     "metadata": {
      "needs_background": "light"
     },
     "output_type": "display_data"
    }
   ],
   "source": [
    "plt.plot(losses)"
   ]
  },
  {
   "cell_type": "code",
   "execution_count": 7,
   "metadata": {},
   "outputs": [],
   "source": [
    "def test(net, test_X, test_y):\n",
    "    correct  = 0\n",
    "    total = 0\n",
    "    with torch.no_grad():\n",
    "        for n in range(0, len(test_X), batchSize):\n",
    "            net_out = net(test_X[n:n+batchSize].view(-1,3,imageDim[0],imageDim[1]).to(device))\n",
    "            for i, x in enumerate(net_out):\n",
    "                if torch.argmax(test_y[n:n+batchSize][i])==torch.argmax(x):\n",
    "                    correct +=1\n",
    "                total +=1\n",
    "    return(correct/total)"
   ]
  },
  {
   "cell_type": "code",
   "execution_count": 10,
   "metadata": {},
   "outputs": [],
   "source": [
    "# 5's are dogs and 3's are cats in CIFAR 10\n",
    "# 0's are cats 1's are dogs in kaggle\n",
    "def switcher(n):\n",
    "    if np.all(n==np.array([1,0])):\n",
    "        return(np.eye(10)[3])\n",
    "    return(np.eye(10)[5])\n",
    "kaggle_test_y = torch.tensor(np.array([switcher(x) for x in np.array(kaggle_cd_y)]), dtype=torch.float32)\n",
    "sample = np.round(np.random.uniform(0, len(kaggle_test_y),1000),0).astype(np.int)\n",
    "kaggle_test_y=kaggle_test_y[sample]\n",
    "kaggle_test_X=kaggle_cd_X[sample]"
   ]
  },
  {
   "cell_type": "code",
   "execution_count": 24,
   "metadata": {},
   "outputs": [
    {
     "data": {
      "text/plain": [
       "torch.Size([64, 64, 3, 3])"
      ]
     },
     "execution_count": 24,
     "metadata": {},
     "output_type": "execute_result"
    }
   ],
   "source": [
    "# plt.imshow(np.array(kaggle_cd_X[18000])) # cat for sure!\n",
    "# plt.show()\n",
    "# kaggle_test_y[18000]\n",
    "# plt.imshow(np.array(kaggle_cd_X[19000])) # dog for sure!\n",
    "# plt.show()\n",
    "# kaggle_test_y[19000]\n",
    "net.net.features[2].weight.shape"
   ]
  },
  {
   "cell_type": "code",
   "execution_count": 25,
   "metadata": {},
   "outputs": [],
   "source": [
    "class AddaptedVGG(nn.Module):\n",
    "    def __init__(self):\n",
    "        super(AddaptedVGG,self).__init__()\n",
    "        self.net = models.vgg16(pretrained=False)\n",
    "        for i, param in enumerate(self.net.features.parameters()):\n",
    "            if i<1: param.requires_grad = False\n",
    "        self.net.classifier[6] = nn.Linear(4096,10)\n",
    "\n",
    "    def forward(self,x):\n",
    "        x = self.net(x)\n",
    "        return x\n",
    "\n",
    "net = AddaptedVGG().to(device)\n",
    "\n",
    "colorprops = [0.299, 0.587, 0.114]\n",
    "with torch.no_grad():\n",
    "    klein_filters = topnet.legendre_klein_bottle(8,8,3,None)\n",
    "    for n in range(net.net.features[0].weight.shape[0]):\n",
    "        for i in range(3):\n",
    "            net.net.features[0].weight[n,i] = torch.nn.Parameter(torch.tensor(klein_filters[n]*colorprops[i])).to(device)\n",
    "#             net.net.features[2].weight[n] = torch.nn.Parameter(torch.tensor(klein_filters[n])).to(device)\n",
    "            \n",
    "optimizer = optim.Adam(net.parameters(), lr=1e-5)"
   ]
  },
  {
   "cell_type": "code",
   "execution_count": 26,
   "metadata": {
    "scrolled": true
   },
   "outputs": [],
   "source": [
    "batchSize=100\n",
    "imageDim=(32,32)\n",
    "klein_accuracies = []\n",
    "klein_kaggle_accuracies = []\n",
    "klein_losses=[]\n",
    "epochs=1\n",
    "for epoch in range(epochs):\n",
    "    for n in range(0, len(train_X), batchSize):\n",
    "        batch_X = train_X[n:n+batchSize].view(-1,3,imageDim[0],imageDim[1]).to(device)\n",
    "        batch_y = train_y[n:n+batchSize].to(device)\n",
    "        net.zero_grad()\n",
    "        outputs = net(batch_X)\n",
    "        loss = nn.MSELoss()(outputs, batch_y)\n",
    "        klein_losses.append(loss.tolist())\n",
    "        loss.backward()\n",
    "        optimizer.step()\n",
    "        if n%5000==0:\n",
    "            klein_accuracies.append(test(net, test_X,test_y))\n",
    "            klein_kaggle_accuracies.append(test(net, kaggle_test_X,kaggle_test_y))"
   ]
  },
  {
   "cell_type": "code",
   "execution_count": 21,
   "metadata": {},
   "outputs": [],
   "source": [
    "class AddaptedVGG(nn.Module):\n",
    "    def __init__(self):\n",
    "        super(AddaptedVGG,self).__init__()\n",
    "        self.net = models.vgg16(pretrained=False)\n",
    "        self.net.classifier[6] = nn.Linear(4096,10)\n",
    "\n",
    "    def forward(self,x):\n",
    "        x = self.net(x)\n",
    "        return x\n",
    "\n",
    "normal_net = AddaptedVGG().to(device)\n",
    "\n",
    "normal_optimizer = optim.Adam(normal_net.parameters(), lr=1e-5)"
   ]
  },
  {
   "cell_type": "code",
   "execution_count": 22,
   "metadata": {},
   "outputs": [],
   "source": [
    "batchSize=100\n",
    "imageDim=(32,32)\n",
    "accuracies = []\n",
    "kaggle_accuracies = []\n",
    "losses=[]\n",
    "epochs=1\n",
    "for epoch in range(epochs):\n",
    "    for n in range(0, len(train_X), batchSize):\n",
    "        batch_X = train_X[n:n+batchSize].view(-1,3,imageDim[0],imageDim[1]).to(device)\n",
    "        batch_y = train_y[n:n+batchSize].to(device)\n",
    "        normal_net.zero_grad()\n",
    "        outputs = normal_net(batch_X)\n",
    "        loss = nn.MSELoss()(outputs, batch_y)\n",
    "        losses.append(loss.tolist())\n",
    "        loss.backward()\n",
    "        normal_optimizer.step()\n",
    "        if n%5000==0:\n",
    "            accuracies.append(test(normal_net, test_X,test_y))\n",
    "            kaggle_accuracies.append(test(normal_net, kaggle_test_X,kaggle_test_y))"
   ]
  },
  {
   "cell_type": "markdown",
   "metadata": {},
   "source": [
    "** Note about color vs grayscale"
   ]
  },
  {
   "cell_type": "code",
   "execution_count": 27,
   "metadata": {},
   "outputs": [
    {
     "data": {
      "image/png": "[encoded data removed]",
      "text/plain": [
       "<Figure size 432x288 with 1 Axes>"
      ]
     },
     "metadata": {
      "needs_background": "light"
     },
     "output_type": "display_data"
    }
   ],
   "source": [
    "plt.plot(klein_losses, label = 'kf loss')\n",
    "plt.plot(np.arange(len(klein_accuracies))*50,klein_accuracies, label='kf accuracy')\n",
    "plt.plot(losses, label = 'normal loss')\n",
    "plt.plot(np.arange(len(accuracies))*50,accuracies, label='normal accuracy')\n",
    "# plt.plot(np.arange(len(klein_kaggle_accuracies))*5,klein_kaggle_accuracies, label='klein x-acc')\n",
    "# plt.plot(np.arange(len(kaggle_accuracies))*10,kaggle_accuracies, label='normal x-acc')\n",
    "plt.legend()\n",
    "# plt.title('Klein')\n",
    "plt.show()"
   ]
  },
  {
   "cell_type": "code",
   "execution_count": 228,
   "metadata": {},
   "outputs": [],
   "source": [
    "torch.cuda.empty_cache()"
   ]
  }
 ],
 "metadata": {
  "kernelspec": {
   "display_name": "Python 3",
   "language": "python",
   "name": "python3"
  },
  "language_info": {
   "codemirror_mode": {
    "name": "ipython",
    "version": 3
   },
   "file_extension": ".py",
   "mimetype": "text/x-python",
   "name": "python",
   "nbconvert_exporter": "python",
   "pygments_lexer": "ipython3",
   "version": "3.7.5"
  }
 },
 "nbformat": 4,
 "nbformat_minor": 2
}
