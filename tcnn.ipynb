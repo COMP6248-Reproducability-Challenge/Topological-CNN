{
 "cells": [
  {
   "cell_type": "code",
   "execution_count": 1,
   "id": "7f6949ad-c0a8-4280-b229-522560a81597",
   "metadata": {},
   "outputs": [],
   "source": [
    "import numpy as np\n",
    "import numpy as np\n",
    "import matplotlib.pyplot as plt\n",
    "import seaborn as sns\n",
    "import matplotlib.cm as cm\n",
    "import os\n",
    "import torch\n",
    "import torch.nn.functional as F\n",
    "from torchvision.datasets import MNIST\n",
    "import torchvision.transforms as transforms\n",
    "%matplotlib inline"
   ]
  },
  {
   "cell_type": "code",
   "execution_count": 2,
   "id": "b024b200-fe80-4917-82d4-c35b14fc8651",
   "metadata": {},
   "outputs": [],
   "source": [
    "thetas = [0, np.pi, -np.pi, np.pi/2, -np.pi/2, np.pi/4, -np.pi/4]"
   ]
  },
  {
   "cell_type": "code",
   "execution_count": 3,
   "id": "8187138a-ef19-499d-aa42-16381c8dc43a",
   "metadata": {
    "tags": []
   },
   "outputs": [
    {
     "data": {
      "text/plain": [
       "<matplotlib.image.AxesImage at 0x7fce2f904a50>"
      ]
     },
     "execution_count": 3,
     "metadata": {},
     "output_type": "execute_result"
    },
    {
     "data": {
      "image/png": "[encoded data removed]",
      "text/plain": [
       "<Figure size 432x288 with 1 Axes>"
      ]
     },
     "metadata": {
      "needs_background": "light"
     },
     "output_type": "display_data"
    }
   ],
   "source": [
    "def Q(t: float) -> float:\n",
    "    return 2*t**2 - 1\n",
    "\n",
    "# Calculates Klein Filter value for position (x,y)\n",
    "def klein_filter(theta1: float, theta2: float, x: int, y: int) -> float:\n",
    "    return np.sin(theta2)*(np.cos(theta1)*x+ np.sin(theta1)*y) + np.cos(theta2)*Q(np.cos(theta1)*x + np.sin(theta1)*y)\n",
    "\n",
    "# Generates a Circle Filter value for position (x,y)\n",
    "def primary_circle(theta: float, x: int, y: int) -> float:\n",
    "    return klein_filter(theta, np.pi /2, x,y)\n",
    "\n",
    "# Generates a complete Klein or Primary Circle filter/kernel\n",
    "def generate_kernel(size: int, theta1: float, theta2 = np.pi /2) -> np.ndarray:\n",
    "    results = []\n",
    "    # This linspace seems to work for KFs but not CFs\n",
    "    # We might need to find a different way of choosing our x,y values\n",
    "    linspace = np.linspace(-1,1,size)\n",
    "    for x in linspace :\n",
    "        row = []\n",
    "        for y in linspace :\n",
    "            kf = klein_filter(theta1, theta2, x, y)\n",
    "            row.append(kf)\n",
    "        results.append(row)\n",
    "    results = np.array(results)\n",
    "    return results \n",
    "\n",
    "def generate_klein_filter(size: int, theta1: float, theta2: float, points: np.ndarray) -> np.ndarray:\n",
    "    results = []\n",
    "    for xy in points:\n",
    "        row = []\n",
    "        for x, y in xy:\n",
    "            cf = klein_filter(theta1, theta2, x, y)\n",
    "            row.append(cf)\n",
    "        results.append(row)\n",
    "    results = np.array(results)\n",
    "    return results\n",
    "\n",
    "def generate_primary_circle_filter(size: int, theta: float, points: np.ndarray) -> np.ndarray:\n",
    "    results = []\n",
    "    for xy in points:\n",
    "        row = []\n",
    "        for x, y in xy:\n",
    "            cf = primary_circle(theta, x, y)\n",
    "            row.append(cf)\n",
    "        results.append(row)\n",
    "    results = np.array(results)\n",
    "    return results\n",
    "\n",
    "def convolve_image(image: torch.Tensor, weights: torch.Tensor, nb_channels: int) -> torch.Tensor:\n",
    "    weights = weights.view(1, 1, weights.shape[0], weights.shape[1]).repeat(1, nb_channels, 1, 1)\n",
    "    output = F.conv2d(image, weights).squeeze(0)\n",
    "    return output\n",
    "\n",
    "points = np.array([[(-1, -1), (-1, -1), (0, -1), (1, -1), (1, -1)], [(-1, -1), (-1, -1), (0, -1), (1, -1), (1, -1)], [(-1, -1), (-1, -1), (0, -1), (1, -1), (1, -1)], [(-1, -1), (-1, -1), (0, -1), (1, -1), (1, -1)], [(-1, -1), (-1, -1), (0, -1), (1, -1), (1, -1)]])\n",
    "plt.imshow(generate_primary_circle_filter(5, -np.pi/4, points), cmap=plt.get_cmap('gray'))"
   ]
  },
  {
   "cell_type": "code",
   "execution_count": 268,
   "id": "8b1bfdf7-8947-4112-901e-dbd5a8127651",
   "metadata": {
    "jupyter": {
     "source_hidden": true
    },
    "tags": []
   },
   "outputs": [],
   "source": [
    "def display_kernels(thetas: [float], size: int) -> None:\n",
    "    # convert each image to tensor format\n",
    "    for theta1 in thetas:\n",
    "        for theta2 in thetas:\n",
    "            kfilter = generate_kernel(size, theta1, theta2)\n",
    "            output = convolve_image(image=trainset[0][0], weights=torch.tensor(kfilter, dtype=torch.float32), nb_channels=1)\n",
    "            ax = sns.heatmap(kfilter, cmap=cm.gray)\n",
    "            #ax2 = plt.imshow(output, cmap=plt.get_cmap('gray'))\n",
    "            ax.set_title(\"Theta1: {}\\u03c0 and Theta2: {}\\u03c0\".format(theta1 / np.pi, theta2 / np.pi))\n",
    "            plt.show()"
   ]
  },
  {
   "cell_type": "markdown",
   "id": "18f4599a-807d-4ca5-bc23-e6ea6af55e93",
   "metadata": {},
   "source": [
    "## KF filters"
   ]
  },
  {
   "cell_type": "code",
   "execution_count": 336,
   "id": "dd406520-71f2-4745-a026-74b34e0475bc",
   "metadata": {
    "collapsed": true,
    "jupyter": {
     "outputs_hidden": true,
     "source_hidden": true
    },
    "tags": []
   },
   "outputs": [
    {
     "data": {
      "image/png": "[encoded data removed]",
      "text/plain": [
       "<Figure size 720x576 with 16 Axes>"
      ]
     },
     "metadata": {
      "needs_background": "light"
     },
     "output_type": "display_data"
    }
   ],
   "source": [
    "thetas1 = [np.pi/2, np.pi/4, 0, -np.pi/4]\n",
    "thetas2 = [0, np.pi/2, np.pi, -np.pi/2]\n",
    "\n",
    "fig, axs = plt.subplots(len(thetas2), len(thetas2), figsize=(10, 8))\n",
    "for i, theta2 in enumerate(thetas2):\n",
    "    for j, theta1 in enumerate(thetas1):\n",
    "        kfilter = generate_kernel(5, theta1, theta2)\n",
    "        axs[i][j].imshow(kfilter, cmap=plt.get_cmap('gray'))"
   ]
  },
  {
   "cell_type": "code",
   "execution_count": 2,
   "id": "675a520b-1ec9-4b90-ab81-7de773c5750b",
   "metadata": {
    "tags": []
   },
   "outputs": [
    {
     "ename": "NameError",
     "evalue": "name 'generate_kernel' is not defined",
     "output_type": "error",
     "traceback": [
      "\u001b[0;31m---------------------------------------------------------------------------\u001b[0m",
      "\u001b[0;31mNameError\u001b[0m                                 Traceback (most recent call last)",
      "\u001b[0;32m<ipython-input-2-aea4b5a544e6>\u001b[0m in \u001b[0;36m<module>\u001b[0;34m\u001b[0m\n\u001b[1;32m     11\u001b[0m \u001b[0;32mfor\u001b[0m \u001b[0mi\u001b[0m\u001b[0;34m,\u001b[0m \u001b[0mtheta2\u001b[0m \u001b[0;32min\u001b[0m \u001b[0menumerate\u001b[0m\u001b[0;34m(\u001b[0m\u001b[0mthetas2\u001b[0m\u001b[0;34m)\u001b[0m\u001b[0;34m:\u001b[0m\u001b[0;34m\u001b[0m\u001b[0;34m\u001b[0m\u001b[0m\n\u001b[1;32m     12\u001b[0m     \u001b[0;32mfor\u001b[0m \u001b[0mj\u001b[0m\u001b[0;34m,\u001b[0m \u001b[0mtheta1\u001b[0m \u001b[0;32min\u001b[0m \u001b[0menumerate\u001b[0m\u001b[0;34m(\u001b[0m\u001b[0mthetas1\u001b[0m\u001b[0;34m)\u001b[0m\u001b[0;34m:\u001b[0m\u001b[0;34m\u001b[0m\u001b[0;34m\u001b[0m\u001b[0m\n\u001b[0;32m---> 13\u001b[0;31m         \u001b[0mkfilter\u001b[0m \u001b[0;34m=\u001b[0m \u001b[0mgenerate_kernel\u001b[0m\u001b[0;34m(\u001b[0m\u001b[0;36m5\u001b[0m\u001b[0;34m,\u001b[0m \u001b[0mtheta1\u001b[0m\u001b[0;34m,\u001b[0m \u001b[0mtheta2\u001b[0m\u001b[0;34m)\u001b[0m\u001b[0;34m\u001b[0m\u001b[0;34m\u001b[0m\u001b[0m\n\u001b[0m\u001b[1;32m     14\u001b[0m         \u001b[0mprint\u001b[0m\u001b[0;34m(\u001b[0m\u001b[0mkfilter\u001b[0m\u001b[0;34m.\u001b[0m\u001b[0mshape\u001b[0m\u001b[0;34m)\u001b[0m\u001b[0;34m\u001b[0m\u001b[0;34m\u001b[0m\u001b[0m\n\u001b[1;32m     15\u001b[0m         \u001b[0moutput\u001b[0m \u001b[0;34m=\u001b[0m \u001b[0mconvolve_image\u001b[0m\u001b[0;34m(\u001b[0m\u001b[0mimage\u001b[0m\u001b[0;34m=\u001b[0m\u001b[0mtrainset\u001b[0m\u001b[0;34m[\u001b[0m\u001b[0;36m0\u001b[0m\u001b[0;34m]\u001b[0m\u001b[0;34m[\u001b[0m\u001b[0;36m0\u001b[0m\u001b[0;34m]\u001b[0m\u001b[0;34m,\u001b[0m \u001b[0mweights\u001b[0m\u001b[0;34m=\u001b[0m\u001b[0mtorch\u001b[0m\u001b[0;34m.\u001b[0m\u001b[0mtensor\u001b[0m\u001b[0;34m(\u001b[0m\u001b[0mkfilter\u001b[0m\u001b[0;34m,\u001b[0m \u001b[0mdtype\u001b[0m\u001b[0;34m=\u001b[0m\u001b[0mtorch\u001b[0m\u001b[0;34m.\u001b[0m\u001b[0mfloat32\u001b[0m\u001b[0;34m)\u001b[0m\u001b[0;34m,\u001b[0m \u001b[0mnb_channels\u001b[0m\u001b[0;34m=\u001b[0m\u001b[0;36m1\u001b[0m\u001b[0;34m)\u001b[0m\u001b[0;34m\u001b[0m\u001b[0;34m\u001b[0m\u001b[0m\n",
      "\u001b[0;31mNameError\u001b[0m: name 'generate_kernel' is not defined"
     ]
    },
    {
     "data": {
      "image/png": "[encoded data removed]",
      "text/plain": [
       "<Figure size 720x576 with 16 Axes>"
      ]
     },
     "metadata": {
      "needs_background": "light"
     },
     "output_type": "display_data"
    }
   ],
   "source": [
    "thetas2 = [0, np.pi/2, np.pi, -np.pi/2]\n",
    "thetas1 = [np.pi/2, np.pi/4, 0, -np.pi/4]\n",
    "\n",
    "transform = transforms.Compose([\n",
    "        transforms.ToTensor()  # convert to tensor\n",
    "    ])\n",
    "trainset = MNIST(\".\", train=True, download=True, transform=transform)\n",
    "\n",
    "\n",
    "fig, axs = plt.subplots(len(thetas2), len(thetas2), figsize=(10, 8))\n",
    "for i, theta2 in enumerate(thetas2):\n",
    "    for j, theta1 in enumerate(thetas1):\n",
    "        kfilter = generate_kernel(5, theta1, theta2)\n",
    "        print(kfilter.shape)\n",
    "        output = convolve_image(image=trainset[0][0], weights=torch.tensor(kfilter, dtype=torch.float32), nb_channels=1)\n",
    "        axs[i][j].imshow(output, cmap=plt.get_cmap('gray'))"
   ]
  },
  {
   "cell_type": "markdown",
   "id": "d5437179-7bb5-4f7f-9da5-eadbece8cb38",
   "metadata": {},
   "source": [
    "## CF filters"
   ]
  },
  {
   "cell_type": "code",
   "execution_count": 215,
   "id": "08daf675-2e0d-48c8-a2ea-ebab988c835d",
   "metadata": {
    "collapsed": true,
    "jupyter": {
     "outputs_hidden": true,
     "source_hidden": true
    },
    "tags": []
   },
   "outputs": [
    {
     "data": {
      "image/png": "[encoded data removed]",
      "text/plain": [
       "<Figure size 720x216 with 4 Axes>"
      ]
     },
     "metadata": {
      "needs_background": "light"
     },
     "output_type": "display_data"
    },
    {
     "data": {
      "image/png": "[encoded data removed]",
      "text/plain": [
       "<Figure size 720x216 with 4 Axes>"
      ]
     },
     "metadata": {
      "needs_background": "light"
     },
     "output_type": "display_data"
    },
    {
     "data": {
      "image/png": "[encoded data removed]",
      "text/plain": [
       "<Figure size 720x216 with 4 Axes>"
      ]
     },
     "metadata": {
      "needs_background": "light"
     },
     "output_type": "display_data"
    },
    {
     "data": {
      "image/png": "[encoded data removed]",
      "text/plain": [
       "<Figure size 720x216 with 4 Axes>"
      ]
     },
     "metadata": {
      "needs_background": "light"
     },
     "output_type": "display_data"
    }
   ],
   "source": [
    "matrices = [np.array([[(-1, -1), (-1, -1), (-1, -1), (-1, -1), (-1, -1)], [(-1, -1), (-1, -1), (-1, -1), (-1, -1), (-1, -1)], [(0, 0), (0, 0), (0, 0), (0, 0), (0, 0)], [(1, 1), (1, 1), (1, 1), (1, 1), (1, 1)], [(1, 1), (1, 1), (1, 1), (1, 1), (1, 1)]]),\n",
    "           np.array([[(-1, -1), (-1, -1), (0, 0), (1, 1), (1, 1)], [(-1, -1), (-1, -1), (0, 0), (1, 1), (1, 1)], [(-1, -1), (-1, -1), (0, 0), (1, 1), (1, 1)], [(-1, -1), (-1, -1), (0, 0), (1, 1), (1, 1)], [(-1, -1), (-1, -1), (0, 0), (1, 1), (1, 1)]]),\n",
    "           np.array([[(-1, -1), (-1, -1), (-1, -1), (-1, -1), (-1, -1)], [(-1, -1), (-1, -1), (-1, -1), (-1, -1), (-1, -1)], [(0, 0), (0, 0), (0, 0), (0, 0), (0, 0)], [(1, 1), (1, 1), (1, 1), (1, 1), (1, 1)], [(1, 1), (1, 1), (1, 1), (1, 1), (1, 1)]]),\n",
    "           np.array([[(-1, -1), (-1, -1), (0, 0), (1, 1), (1, 1)], [(-1, -1), (-1, -1), (0, 0), (1, 1), (1, 1)], [(-1, -1), (-1, -1), (0, 0), (1, 1), (1, 1)], [(-1, -1), (-1, -1), (0, 0), (1, 1), (1, 1)], [(-1, -1), (-1, -1), (0, 0), (1, 1), (1, 1)]])]\n",
    "pis = [np.pi, 0, 0, np.pi]\n",
    "i = 0\n",
    "fig, axs = plt.subplots(1, 4, figsize=(10, 3))\n",
    "for ax, interp in zip(axs, ['180°', '0°', '0°', '180°']):\n",
    "    matrix = matrices[i]\n",
    "    cfilter = generate_primary_circle_filter(5, pis[i], matrix)\n",
    "    ax.imshow(cfilter, cmap=plt.get_cmap('gray'))\n",
    "    ax.set_title(interp.capitalize())\n",
    "    i += 1\n",
    "\n",
    "matrices = [np.array([[(-1, -1), (-1, -1), (-1, -1), (-1, -1), (-1, -1)], [(-0.5, -0.5), (-0.9, -0.9), (-1, -1), (-1, -1), (-1, -1)], [(1, 1), (0.8, 0.8), (0, 0), (-1, -1), (-1, -1)], [(1, 1), (1, 1), (1, 1), (0.9, 0.9), (0.4, 0.4)], [(1, 1), (1, 1), (1, 1), (1, 1), (1, 1)]]),\n",
    "           np.array([[(-1, -1), (-1, -1), (-1, -1), (0.4, 0.4), (1, 1)], [(-1, -1), (-1, -1), (-1, -1), (0.9, 0.9), (1, 1)], [(-1, -1), (-1, -1), (0, 0), (1, 1), (1, 1)], [(-1, -1), (-0.9, -0.9), (0.8, 0.8), (1, 1), (1, 1)], [(-1, -1), (-0.5, -0.5), (1, 1), (1, 1), (1, 1)]]),\n",
    "           np.array([[(-1, -1), (-1, -1), (-1, -1), (-1, -1), (-1, -1)], [(-0.5, -0.5), (-0.9, -0.9), (-1, -1), (-1, -1), (-1, -1)], [(1, 1), (0.8, 0.8), (0, 0), (-1, -1), (-1, -1)], [(1, 1), (1, 1), (1, 1), (0.9, 0.9), (0.4, 0.4)], [(1, 1), (1, 1), (1, 1), (1, 1), (1, 1)]]),\n",
    "           np.array([[(-1, -1), (-1, -1), (-1, -1), (0.4, 0.4), (1, 1)], [(-1, -1), (-1, -1), (-1, -1), (0.9, 0.9), (1, 1)], [(-1, -1), (-1, -1), (0, 0), (1, 1), (1, 1)], [(-1, -1), (-0.9, -0.9), (0.8, 0.8), (1, 1), (1, 1)], [(-1, -1), (-0.5, -0.5), (1, 1), (1, 1), (1, 1)]])]\n",
    "\n",
    "i = 0\n",
    "fig, axs = plt.subplots(1, 4, figsize=(10, 3))\n",
    "for ax in axs:\n",
    "    matrix = matrices[i]\n",
    "    cfilter = generate_primary_circle_filter(5, pis[i], matrix)\n",
    "    ax.imshow(cfilter, cmap=plt.get_cmap('gray'))\n",
    "    i += 1\n",
    "    \n",
    "matrices = [np.array([[(0, 0), (-1, -1), (-1, -1), (-1, -1), (-1, -1)], [(1, 1), (0, 0), (-1, -1), (-1, -1), (-1, -1)], [(1, 1), (1, 1), (0, 0), (-1, -1), (-1, -1)], [(1, 1), (1, 1), (1, 1), (0, 0), (-1, -1)], [(1, 1), (1, 1), (1, 1), (1, 1), (0, 0)]]),\n",
    "           np.array([[(-1, -1), (-1, -1), (-1, -1), (-1, -1), (0, 0)], [(-1, -1), (-1, -1), (-1, -1), (0, 0), (1, 1)], [(-1, -1), (-1, -1), (0, 0), (1, 1), (1, 1)], [(-1, -1), (0, 0), (1, 1), (1, 1), (1, 1)], [(0, 0), (1, 1), (1, 1), (1, 1), (1, 1)]]),\n",
    "           np.array([[(0, 0), (-1, -1), (-1, -1), (-1, -1), (-1, -1)], [(1, 1), (0, 0), (-1, -1), (-1, -1), (-1, -1)], [(1, 1), (1, 1), (0, 0), (-1, -1), (-1, -1)], [(1, 1), (1, 1), (1, 1), (0, 0), (-1, -1)], [(1, 1), (1, 1), (1, 1), (1, 1), (0, 0)]] ),\n",
    "           np.array([[(-1, -1), (-1, -1), (-1, -1), (-1, -1), (0, 0)], [(-1, -1), (-1, -1), (-1, -1), (0, 0), (1, 1)], [(-1, -1), (-1, -1), (0, 0), (1, 1), (1, 1)], [(-1, -1), (0, 0), (1, 1), (1, 1), (1, 1)], [(0, 0), (1, 1), (1, 1), (1, 1), (1, 1)]])]\n",
    "\n",
    "i = 0\n",
    "fig, axs = plt.subplots(1, 4, figsize=(10, 3))\n",
    "for ax in axs:\n",
    "    matrix = matrices[i]\n",
    "    cfilter = generate_primary_circle_filter(5, pis[i], matrix)\n",
    "    ax.imshow(cfilter, cmap=plt.get_cmap('gray'))\n",
    "    i += 1\n",
    "    \n",
    "matrices = [np.array([[(1, 1), (0.4, 0.4), (-1, -1), (-1, -1), (-1, -1)], [(1, 1), (0.9, 0.9), (-1, -1), (-1, -1), (-1, -1)], [(1, 1), (1, 1), (0, 0), (-1, -1), (-1, -1)], [(1, 1), (1, 1), (0.8, 0.8), (-0.9, -0.9), (-1, -1)], [(1, 1), (1, 1), (1, 1),  (-0.5, -0.5), (-1, -1)]]),\n",
    "           np.array([[(-1, -1), (-1, -1), (-1, -1), (-1, -1), (-1, -1)],[(-1, -1), (-1, -1), (-1, -1), (-0.9, -0.9), (-0.5, -0.5)],[(-1, -1), (-1, -1), (0, 0), (0.8, 0.8), (1, 1)],[(0.4, 0.4), (0.9, 0.9), (1, 1), (1, 1), (1, 1)],[(1, 1), (1, 1), (1, 1), (1, 1), (1, 1)]]),\n",
    "           np.array([[(1, 1), (0.4, 0.4), (-1, -1), (-1, -1), (-1, -1)], [(1, 1), (0.9, 0.9), (-1, -1), (-1, -1), (-1, -1)], [(1, 1), (1, 1), (0, 0), (-1, -1), (-1, -1)], [(1, 1), (1, 1), (0.8, 0.8), (-0.9, -0.9), (-1, -1)], [(1, 1), (1, 1), (1, 1),  (-0.5, -0.5), (-1, -1)]]),\n",
    "           np.array([[(-1, -1), (-1, -1), (-1, -1), (-1, -1), (-1, -1)],[(-1, -1), (-1, -1), (-1, -1), (-0.9, -0.9), (-0.5, -0.5)],[(-1, -1), (-1, -1), (0, 0), (0.8, 0.8), (1, 1)],[(0.4, 0.4), (0.9, 0.9), (1, 1), (1, 1), (1, 1)],[(1, 1), (1, 1), (1, 1), (1, 1), (1, 1)]])]\n",
    "\n",
    "i = 0\n",
    "fig, axs = plt.subplots(1, 4, figsize=(10, 3))\n",
    "for ax in axs:\n",
    "    matrix = matrices[i]\n",
    "    cfilter = generate_primary_circle_filter(5, pis[i], matrix)\n",
    "    ax.imshow(cfilter, cmap=plt.get_cmap('gray'))\n",
    "    i += 1\n",
    "     \n",
    "plt.show()"
   ]
  },
  {
   "cell_type": "code",
   "execution_count": 214,
   "id": "78036794-78bd-4e0f-8eed-5cbadd537e95",
   "metadata": {
    "collapsed": true,
    "jupyter": {
     "outputs_hidden": true,
     "source_hidden": true
    },
    "tags": []
   },
   "outputs": [
    {
     "data": {
      "image/png": "[encoded data removed]",
      "text/plain": [
       "<Figure size 720x216 with 4 Axes>"
      ]
     },
     "metadata": {
      "needs_background": "light"
     },
     "output_type": "display_data"
    },
    {
     "data": {
      "image/png": "[encoded data removed]",
      "text/plain": [
       "<Figure size 720x216 with 4 Axes>"
      ]
     },
     "metadata": {
      "needs_background": "light"
     },
     "output_type": "display_data"
    },
    {
     "data": {
      "image/png": "[encoded data removed]",
      "text/plain": [
       "<Figure size 720x216 with 4 Axes>"
      ]
     },
     "metadata": {
      "needs_background": "light"
     },
     "output_type": "display_data"
    },
    {
     "data": {
      "image/png": "[encoded data removed]",
      "text/plain": [
       "<Figure size 720x216 with 4 Axes>"
      ]
     },
     "metadata": {
      "needs_background": "light"
     },
     "output_type": "display_data"
    }
   ],
   "source": [
    "# convert each image to tensor format\n",
    "transform = transforms.Compose([\n",
    "    transforms.ToTensor()  # convert to tensor\n",
    "])\n",
    "trainset = MNIST(\".\", train=True, download=True, transform=transform)\n",
    "\n",
    "matrices = [np.array([[(-1, -1), (-1, -1), (-1, -1), (-1, -1), (-1, -1)], [(-1, -1), (-1, -1), (-1, -1), (-1, -1), (-1, -1)], [(0, 0), (0, 0), (0, 0), (0, 0), (0, 0)], [(1, 1), (1, 1), (1, 1), (1, 1), (1, 1)], [(1, 1), (1, 1), (1, 1), (1, 1), (1, 1)]]),\n",
    "           np.array([[(-1, -1), (-1, -1), (0, 0), (1, 1), (1, 1)], [(-1, -1), (-1, -1), (0, 0), (1, 1), (1, 1)], [(-1, -1), (-1, -1), (0, 0), (1, 1), (1, 1)], [(-1, -1), (-1, -1), (0, 0), (1, 1), (1, 1)], [(-1, -1), (-1, -1), (0, 0), (1, 1), (1, 1)]]),\n",
    "           np.array([[(-1, -1), (-1, -1), (-1, -1), (-1, -1), (-1, -1)], [(-1, -1), (-1, -1), (-1, -1), (-1, -1), (-1, -1)], [(0, 0), (0, 0), (0, 0), (0, 0), (0, 0)], [(1, 1), (1, 1), (1, 1), (1, 1), (1, 1)], [(1, 1), (1, 1), (1, 1), (1, 1), (1, 1)]]),\n",
    "           np.array([[(-1, -1), (-1, -1), (0, 0), (1, 1), (1, 1)], [(-1, -1), (-1, -1), (0, 0), (1, 1), (1, 1)], [(-1, -1), (-1, -1), (0, 0), (1, 1), (1, 1)], [(-1, -1), (-1, -1), (0, 0), (1, 1), (1, 1)], [(-1, -1), (-1, -1), (0, 0), (1, 1), (1, 1)]])]\n",
    "pis = [np.pi, 0, np.pi, 0]\n",
    "i = 0\n",
    "fig, axs = plt.subplots(1, 4, figsize=(10, 3))\n",
    "for ax, interp in zip(axs, ['180°', '0°', '0°', '180°']):\n",
    "    matrix = matrices[i]\n",
    "    cfilter = generate_primary_circle_filter(5, pis[i], matrix)\n",
    "    output = convolve_image(image=trainset[0][0], weights=torch.tensor(cfilter, dtype=torch.float32), nb_channels=1)\n",
    "    ax.imshow(output, cmap=plt.get_cmap('gray'))\n",
    "    ax.set_title(interp.capitalize())\n",
    "    i += 1\n",
    "\n",
    "matrices = [np.array([[(-1, -1), (-1, -1), (-1, -1), (-1, -1), (-1, -1)], [(-0.5, -0.5), (-0.9, -0.9), (-1, -1), (-1, -1), (-1, -1)], [(1, 1), (0.8, 0.8), (0, 0), (-1, -1), (-1, -1)], [(1, 1), (1, 1), (1, 1), (0.9, 0.9), (0.4, 0.4)], [(1, 1), (1, 1), (1, 1), (1, 1), (1, 1)]]),\n",
    "           np.array([[(-1, -1), (-1, -1), (-1, -1), (0.4, 0.4), (1, 1)], [(-1, -1), (-1, -1), (-1, -1), (0.9, 0.9), (1, 1)], [(-1, -1), (-1, -1), (0, 0), (1, 1), (1, 1)], [(-1, -1), (-0.9, -0.9), (0.8, 0.8), (1, 1), (1, 1)], [(-1, -1), (-0.5, -0.5), (1, 1), (1, 1), (1, 1)]]),\n",
    "           np.array([[(-1, -1), (-1, -1), (-1, -1), (-1, -1), (-1, -1)], [(-0.5, -0.5), (-0.9, -0.9), (-1, -1), (-1, -1), (-1, -1)], [(1, 1), (0.8, 0.8), (0, 0), (-1, -1), (-1, -1)], [(1, 1), (1, 1), (1, 1), (0.9, 0.9), (0.4, 0.4)], [(1, 1), (1, 1), (1, 1), (1, 1), (1, 1)]]),\n",
    "           np.array([[(-1, -1), (-1, -1), (-1, -1), (0.4, 0.4), (1, 1)], [(-1, -1), (-1, -1), (-1, -1), (0.9, 0.9), (1, 1)], [(-1, -1), (-1, -1), (0, 0), (1, 1), (1, 1)], [(-1, -1), (-0.9, -0.9), (0.8, 0.8), (1, 1), (1, 1)], [(-1, -1), (-0.5, -0.5), (1, 1), (1, 1), (1, 1)]])]\n",
    "\n",
    "i = 0\n",
    "fig, axs = plt.subplots(1, 4, figsize=(10, 3))\n",
    "for ax in axs:\n",
    "    matrix = matrices[i]\n",
    "    cfilter = generate_primary_circle_filter(5, pis[i], matrix)\n",
    "    output = convolve_image(image=trainset[0][0], weights=torch.tensor(cfilter, dtype=torch.float32), nb_channels=1)\n",
    "    ax.imshow(output, cmap=plt.get_cmap('gray'))\n",
    "    i += 1\n",
    "    \n",
    "matrices = [np.array([[(0, 0), (-1, -1), (-1, -1), (-1, -1), (-1, -1)], [(1, 1), (0, 0), (-1, -1), (-1, -1), (-1, -1)], [(1, 1), (1, 1), (0, 0), (-1, -1), (-1, -1)], [(1, 1), (1, 1), (1, 1), (0, 0), (-1, -1)], [(1, 1), (1, 1), (1, 1), (1, 1), (0, 0)]]),\n",
    "           np.array([[(-1, -1), (-1, -1), (-1, -1), (-1, -1), (0, 0)], [(-1, -1), (-1, -1), (-1, -1), (0, 0), (1, 1)], [(-1, -1), (-1, -1), (0, 0), (1, 1), (1, 1)], [(-1, -1), (0, 0), (1, 1), (1, 1), (1, 1)], [(0, 0), (1, 1), (1, 1), (1, 1), (1, 1)]]),\n",
    "           np.array([[(0, 0), (-1, -1), (-1, -1), (-1, -1), (-1, -1)], [(1, 1), (0, 0), (-1, -1), (-1, -1), (-1, -1)], [(1, 1), (1, 1), (0, 0), (-1, -1), (-1, -1)], [(1, 1), (1, 1), (1, 1), (0, 0), (-1, -1)], [(1, 1), (1, 1), (1, 1), (1, 1), (0, 0)]] ),\n",
    "           np.array([[(-1, -1), (-1, -1), (-1, -1), (-1, -1), (0, 0)], [(-1, -1), (-1, -1), (-1, -1), (0, 0), (1, 1)], [(-1, -1), (-1, -1), (0, 0), (1, 1), (1, 1)], [(-1, -1), (0, 0), (1, 1), (1, 1), (1, 1)], [(0, 0), (1, 1), (1, 1), (1, 1), (1, 1)]])]\n",
    "\n",
    "i = 0\n",
    "fig, axs = plt.subplots(1, 4, figsize=(10, 3))\n",
    "for ax in axs:\n",
    "    matrix = matrices[i]\n",
    "    cfilter = generate_primary_circle_filter(5, pis[i], matrix)\n",
    "    output = convolve_image(image=trainset[0][0], weights=torch.tensor(cfilter, dtype=torch.float32), nb_channels=1)\n",
    "    ax.imshow(output, cmap=plt.get_cmap('gray'))\n",
    "    i += 1\n",
    "    \n",
    "matrices = [np.array([[(1, 1), (0.4, 0.4), (-1, -1), (-1, -1), (-1, -1)], [(1, 1), (0.9, 0.9), (-1, -1), (-1, -1), (-1, -1)], [(1, 1), (1, 1), (0, 0), (-1, -1), (-1, -1)], [(1, 1), (1, 1), (0.8, 0.8), (-0.9, -0.9), (-1, -1)], [(1, 1), (1, 1), (1, 1),  (-0.5, -0.5), (-1, -1)]]),\n",
    "           np.array([[(-1, -1), (-1, -1), (-1, -1), (-1, -1), (-1, -1)],[(-1, -1), (-1, -1), (-1, -1), (-0.9, -0.9), (-0.5, -0.5)],[(-1, -1), (-1, -1), (0, 0), (0.8, 0.8), (1, 1)],[(0.4, 0.4), (0.9, 0.9), (1, 1), (1, 1), (1, 1)],[(1, 1), (1, 1), (1, 1), (1, 1), (1, 1)]]),\n",
    "           np.array([[(1, 1), (0.4, 0.4), (-1, -1), (-1, -1), (-1, -1)], [(1, 1), (0.9, 0.9), (-1, -1), (-1, -1), (-1, -1)], [(1, 1), (1, 1), (0, 0), (-1, -1), (-1, -1)], [(1, 1), (1, 1), (0.8, 0.8), (-0.9, -0.9), (-1, -1)], [(1, 1), (1, 1), (1, 1),  (-0.5, -0.5), (-1, -1)]]),\n",
    "           np.array([[(-1, -1), (-1, -1), (-1, -1), (-1, -1), (-1, -1)],[(-1, -1), (-1, -1), (-1, -1), (-0.9, -0.9), (-0.5, -0.5)],[(-1, -1), (-1, -1), (0, 0), (0.8, 0.8), (1, 1)],[(0.4, 0.4), (0.9, 0.9), (1, 1), (1, 1), (1, 1)],[(1, 1), (1, 1), (1, 1), (1, 1), (1, 1)]])]\n",
    "\n",
    "i = 0\n",
    "fig, axs = plt.subplots(1, 4, figsize=(10, 3))\n",
    "for ax in axs:\n",
    "    matrix = matrices[i]\n",
    "    cfilter = generate_primary_circle_filter(5, pis[i], matrix)\n",
    "    output = convolve_image(image=trainset[0][0], weights=torch.tensor(cfilter, dtype=torch.float32), nb_channels=1)\n",
    "    ax.imshow(output, cmap=plt.get_cmap('gray'))\n",
    "    i += 1\n",
    "    \n",
    "plt.show()"
   ]
  },
  {
   "cell_type": "code",
   "execution_count": 3,
   "id": "b4462982-3c27-4175-a262-c8e440f59cf4",
   "metadata": {},
   "outputs": [],
   "source": [
    "from Layers import KF_Layer, CF_Layer"
   ]
  },
  {
   "cell_type": "code",
   "execution_count": 4,
   "id": "b0708c2b-3bbc-4bbb-986f-b70db1a4c8b4",
   "metadata": {},
   "outputs": [],
   "source": [
    "filter = KF_Layer(5,16)\n"
   ]
  },
  {
   "cell_type": "code",
   "execution_count": 5,
   "id": "94cad152-82cd-4883-b324-262a906f3c3b",
   "metadata": {},
   "outputs": [
    {
     "name": "stdout",
     "output_type": "stream",
     "text": [
      "torch.Size([1, 5, 5])\n"
     ]
    },
    {
     "ename": "RuntimeError",
     "evalue": "expected stride to be a single integer value or a list of 1 values to match the convolution dimensions, but got stride=[1, 1]",
     "output_type": "error",
     "traceback": [
      "\u001b[0;31m---------------------------------------------------------------------------\u001b[0m",
      "\u001b[0;31mRuntimeError\u001b[0m                              Traceback (most recent call last)",
      "\u001b[0;32m<ipython-input-5-671ab36e63e6>\u001b[0m in \u001b[0;36m<module>\u001b[0;34m\u001b[0m\n\u001b[0;32m----> 1\u001b[0;31m \u001b[0mfilter\u001b[0m\u001b[0;34m.\u001b[0m\u001b[0mforward\u001b[0m\u001b[0;34m(\u001b[0m\u001b[0mtrainset\u001b[0m\u001b[0;34m[\u001b[0m\u001b[0;36m0\u001b[0m\u001b[0;34m]\u001b[0m\u001b[0;34m[\u001b[0m\u001b[0;36m0\u001b[0m\u001b[0;34m]\u001b[0m\u001b[0;34m)\u001b[0m\u001b[0;34m\u001b[0m\u001b[0;34m\u001b[0m\u001b[0m\n\u001b[0m",
      "\u001b[0;32m~/Documents/Topological-CNN/Layers.py\u001b[0m in \u001b[0;36mforward\u001b[0;34m(self, x)\u001b[0m\n\u001b[1;32m     26\u001b[0m            \u001b[0mfilter\u001b[0m \u001b[0;34m=\u001b[0m \u001b[0mfilter\u001b[0m\u001b[0;34m.\u001b[0m\u001b[0mview\u001b[0m\u001b[0;34m(\u001b[0m\u001b[0;36m1\u001b[0m\u001b[0;34m,\u001b[0m \u001b[0mfilter\u001b[0m\u001b[0;34m.\u001b[0m\u001b[0mshape\u001b[0m\u001b[0;34m[\u001b[0m\u001b[0;36m0\u001b[0m\u001b[0;34m]\u001b[0m\u001b[0;34m,\u001b[0m \u001b[0mfilter\u001b[0m\u001b[0;34m.\u001b[0m\u001b[0mshape\u001b[0m\u001b[0;34m[\u001b[0m\u001b[0;36m1\u001b[0m\u001b[0;34m]\u001b[0m\u001b[0;34m)\u001b[0m\u001b[0;34m\u001b[0m\u001b[0;34m\u001b[0m\u001b[0m\n\u001b[1;32m     27\u001b[0m            \u001b[0mprint\u001b[0m\u001b[0;34m(\u001b[0m\u001b[0mfilter\u001b[0m\u001b[0;34m.\u001b[0m\u001b[0mshape\u001b[0m\u001b[0;34m)\u001b[0m\u001b[0;34m\u001b[0m\u001b[0;34m\u001b[0m\u001b[0m\n\u001b[0;32m---> 28\u001b[0;31m            \u001b[0moutput\u001b[0m\u001b[0;34m.\u001b[0m\u001b[0mappend\u001b[0m\u001b[0;34m(\u001b[0m\u001b[0mF\u001b[0m\u001b[0;34m.\u001b[0m\u001b[0mconv2d\u001b[0m\u001b[0;34m(\u001b[0m\u001b[0mx\u001b[0m\u001b[0;34m,\u001b[0m \u001b[0mfilter\u001b[0m\u001b[0;34m,\u001b[0m\u001b[0;32mNone\u001b[0m\u001b[0;34m,\u001b[0m \u001b[0;36m1\u001b[0m\u001b[0;34m)\u001b[0m\u001b[0;34m.\u001b[0m\u001b[0msqueeze\u001b[0m\u001b[0;34m(\u001b[0m\u001b[0;36m0\u001b[0m\u001b[0;34m)\u001b[0m\u001b[0;34m)\u001b[0m\u001b[0;34m\u001b[0m\u001b[0;34m\u001b[0m\u001b[0m\n\u001b[0m\u001b[1;32m     29\u001b[0m        \u001b[0;32mreturn\u001b[0m \u001b[0mtorch\u001b[0m\u001b[0;34m.\u001b[0m\u001b[0mtensor\u001b[0m\u001b[0;34m(\u001b[0m\u001b[0moutput\u001b[0m\u001b[0;34m)\u001b[0m\u001b[0;34m\u001b[0m\u001b[0;34m\u001b[0m\u001b[0m\n\u001b[1;32m     30\u001b[0m \u001b[0;34m\u001b[0m\u001b[0m\n",
      "\u001b[0;31mRuntimeError\u001b[0m: expected stride to be a single integer value or a list of 1 values to match the convolution dimensions, but got stride=[1, 1]"
     ]
    }
   ],
   "source": [
    "filter.forward(trainset[0][0])"
   ]
  },
  {
   "cell_type": "code",
   "execution_count": 9,
   "id": "36ec2986-2aca-4851-83ec-47a7db876964",
   "metadata": {},
   "outputs": [
    {
     "data": {
      "text/plain": [
       "(5, 5)"
      ]
     },
     "execution_count": 9,
     "metadata": {},
     "output_type": "execute_result"
    }
   ],
   "source": [
    "filter.filters[0].shape"
   ]
  },
  {
   "cell_type": "code",
   "execution_count": null,
   "id": "756fe709-9552-47a9-b058-bb16ccf2ccf0",
   "metadata": {},
   "outputs": [],
   "source": []
  }
 ],
 "metadata": {
  "kernelspec": {
   "display_name": "Python 3",
   "language": "python",
   "name": "python3"
  },
  "language_info": {
   "codemirror_mode": {
    "name": "ipython",
    "version": 3
   },
   "file_extension": ".py",
   "mimetype": "text/x-python",
   "name": "python",
   "nbconvert_exporter": "python",
   "pygments_lexer": "ipython3",
   "version": "3.7.11"
  }
 },
 "nbformat": 4,
 "nbformat_minor": 5
}
